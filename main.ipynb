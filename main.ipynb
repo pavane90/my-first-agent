{
 "cells": [
  {
   "cell_type": "code",
   "execution_count": 15,
   "id": "4a6073e5",
   "metadata": {},
   "outputs": [],
   "source": [
    "import openai\n",
    "\n",
    "client = openai.OpenAI()\n",
    "\n",
    "\n",
    "messages = []"
   ]
  },
  {
   "cell_type": "code",
   "execution_count": 16,
   "id": "97c754ef",
   "metadata": {},
   "outputs": [],
   "source": [
    "def call_ai():\n",
    "        response = client.chat.completions.create(\n",
    "            model=\"gpt-4o-mini\",\n",
    "            messages=messages\n",
    "        )\n",
    "        message = response.choices[0].message.content\n",
    "        messages.append({\"role\": \"assistant\", \"content\" : message})\n",
    "        print(message)"
   ]
  },
  {
   "cell_type": "code",
   "execution_count": 17,
   "id": "1d63e43e",
   "metadata": {},
   "outputs": [
    {
     "name": "stdout",
     "output_type": "stream",
     "text": [
      "Hello, Byungman Lee! How can I assist you today?\n",
      "Your name is Byungman Lee. How can I help you today?\n",
      "I'm glad you think so! Is there anything specific you'd like to talk about or ask?\n",
      "That's great to hear! Tokyo is a vibrant city with a rich culture and lots to offer. How are you finding life there compared to Korea?\n",
      "You are currently in Tokyo, Japan, but you are originally from Korea. How are you enjoying your time there?\n",
      "You're welcome! If you have any more questions or if there's anything else you'd like to talk about, feel free to ask. Enjoy your day!\n"
     ]
    }
   ],
   "source": [
    "while True:\n",
    "    message = input(\"Send a message to the LLM...\")\n",
    "    if message == \"quit\":\n",
    "        break\n",
    "    else:\n",
    "        messages.append({\n",
    "            \"role\":\"user\",\n",
    "            \"content\": message\n",
    "        })\n",
    "        call_ai()\n"
   ]
  }
 ],
 "metadata": {
  "kernelspec": {
   "display_name": "my-first-agent",
   "language": "python",
   "name": "python3"
  },
  "language_info": {
   "codemirror_mode": {
    "name": "ipython",
    "version": 3
   },
   "file_extension": ".py",
   "mimetype": "text/x-python",
   "name": "python",
   "nbconvert_exporter": "python",
   "pygments_lexer": "ipython3",
   "version": "3.13.7"
  }
 },
 "nbformat": 4,
 "nbformat_minor": 5
}
